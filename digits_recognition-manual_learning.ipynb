{
  "cells": [
    {
      "cell_type": "code",
      "execution_count": 19,
      "metadata": {
        "id": "wv_B_OCuWUub"
      },
      "outputs": [],
      "source": [
        "from fastai.vision.all import *\n"
      ]
    },
    {
      "cell_type": "markdown",
      "source": [
        "# Get all data"
      ],
      "metadata": {
        "id": "Rl9fFjGm7e3L"
      }
    },
    {
      "cell_type": "code",
      "source": [
        "#print(dir(URLs))\n",
        "path_mnist = untar_data(URLs.MNIST)"
      ],
      "metadata": {
        "id": "fc3OYGcQ7erT"
      },
      "execution_count": 20,
      "outputs": []
    },
    {
      "cell_type": "markdown",
      "source": [
        "# Open all entries in the training set"
      ],
      "metadata": {
        "id": "H270h0Dhpl0f"
      }
    },
    {
      "cell_type": "code",
      "source": [
        "train_0_tensors = torch.stack([tensor(Image.open(o)) for o in (path_mnist/'training'/'0').ls()])\n",
        "train_1_tensors = torch.stack([tensor(Image.open(o)) for o in (path_mnist/'training'/'1').ls()])\n",
        "train_2_tensors = torch.stack([tensor(Image.open(o)) for o in (path_mnist/'training'/'2').ls()])\n",
        "train_3_tensors = torch.stack([tensor(Image.open(o)) for o in (path_mnist/'training'/'3').ls()])\n",
        "train_4_tensors = torch.stack([tensor(Image.open(o)) for o in (path_mnist/'training'/'4').ls()])\n",
        "train_5_tensors = torch.stack([tensor(Image.open(o)) for o in (path_mnist/'training'/'5').ls()])\n",
        "train_6_tensors = torch.stack([tensor(Image.open(o)) for o in (path_mnist/'training'/'6').ls()])\n",
        "train_7_tensors = torch.stack([tensor(Image.open(o)) for o in (path_mnist/'training'/'7').ls()])\n",
        "train_8_tensors = torch.stack([tensor(Image.open(o)) for o in (path_mnist/'training'/'8').ls()])\n",
        "train_9_tensors = torch.stack([tensor(Image.open(o)) for o in (path_mnist/'training'/'9').ls()])"
      ],
      "metadata": {
        "id": "fYfy7SKjSbnp"
      },
      "execution_count": 21,
      "outputs": []
    },
    {
      "cell_type": "code",
      "source": [
        "train_x = (torch.cat( [train_0_tensors,\n",
        "                       train_1_tensors,\n",
        "                       train_2_tensors,\n",
        "                       train_3_tensors,\n",
        "                       train_4_tensors,\n",
        "                       train_5_tensors,\n",
        "                       train_6_tensors,\n",
        "                       train_7_tensors,\n",
        "                       train_8_tensors,\n",
        "                       train_9_tensors]).float()/255).view(-1, 28*28)\n",
        "train_x"
      ],
      "metadata": {
        "colab": {
          "base_uri": "https://localhost:8080/"
        },
        "id": "6Ysct4NkUitk",
        "outputId": "097fe351-921f-46db-f9b2-d83dd771edeb"
      },
      "execution_count": 22,
      "outputs": [
        {
          "output_type": "execute_result",
          "data": {
            "text/plain": [
              "tensor([[0., 0., 0.,  ..., 0., 0., 0.],\n",
              "        [0., 0., 0.,  ..., 0., 0., 0.],\n",
              "        [0., 0., 0.,  ..., 0., 0., 0.],\n",
              "        ...,\n",
              "        [0., 0., 0.,  ..., 0., 0., 0.],\n",
              "        [0., 0., 0.,  ..., 0., 0., 0.],\n",
              "        [0., 0., 0.,  ..., 0., 0., 0.]])"
            ]
          },
          "metadata": {},
          "execution_count": 22
        }
      ]
    },
    {
      "cell_type": "code",
      "source": [
        "train_y = torch.cat(  [torch.stack([tensor(1, 0, 0, 0, 0, 0, 0, 0, 0, 0)] * len(train_0_tensors)),\n",
        "                       torch.stack([tensor(0, 1, 0, 0, 0, 0, 0, 0, 0, 0)] * len(train_1_tensors)),\n",
        "                       torch.stack([tensor(0, 0, 1, 0, 0, 0, 0, 0, 0, 0)] * len(train_2_tensors)),\n",
        "                       torch.stack([tensor(0, 0, 0, 1, 0, 0, 0, 0, 0, 0)] * len(train_3_tensors)),\n",
        "                       torch.stack([tensor(0, 0, 0, 0, 1, 0, 0, 0, 0, 0)] * len(train_4_tensors)),\n",
        "                       torch.stack([tensor(0, 0, 0, 0, 0, 1, 0, 0, 0, 0)] * len(train_5_tensors)),\n",
        "                       torch.stack([tensor(0, 0, 0, 0, 0, 0, 1, 0, 0, 0)] * len(train_6_tensors)),\n",
        "                       torch.stack([tensor(0, 0, 0, 0, 0, 0, 0, 1, 0, 0)] * len(train_7_tensors)),\n",
        "                       torch.stack([tensor(0, 0, 0, 0, 0, 0, 0, 0, 1, 0)] * len(train_8_tensors)),\n",
        "                       torch.stack([tensor(0, 0, 0, 0, 0, 0, 0, 0, 0, 1)] * len(train_9_tensors))]).float()\n",
        "train_y"
      ],
      "metadata": {
        "colab": {
          "base_uri": "https://localhost:8080/"
        },
        "id": "B4Kr4uy3vTzF",
        "outputId": "f39b66e6-ee94-4cf8-a298-7807cdea72dc"
      },
      "execution_count": 23,
      "outputs": [
        {
          "output_type": "execute_result",
          "data": {
            "text/plain": [
              "tensor([[1., 0., 0.,  ..., 0., 0., 0.],\n",
              "        [1., 0., 0.,  ..., 0., 0., 0.],\n",
              "        [1., 0., 0.,  ..., 0., 0., 0.],\n",
              "        ...,\n",
              "        [0., 0., 0.,  ..., 0., 0., 1.],\n",
              "        [0., 0., 0.,  ..., 0., 0., 1.],\n",
              "        [0., 0., 0.,  ..., 0., 0., 1.]])"
            ]
          },
          "metadata": {},
          "execution_count": 23
        }
      ]
    },
    {
      "cell_type": "code",
      "source": [
        "train_dset = list(zip(train_x, train_y))\n",
        "train_dl = DataLoader(train_dset, batch_size=256)"
      ],
      "metadata": {
        "id": "7w1AhcHHWIHr"
      },
      "execution_count": 24,
      "outputs": []
    },
    {
      "cell_type": "markdown",
      "source": [
        "# Open all entries in the validation set"
      ],
      "metadata": {
        "id": "hY-gdg7KpcyX"
      }
    },
    {
      "cell_type": "code",
      "source": [
        "valid_0_tensors = torch.stack([tensor(Image.open(o)) for o in (path_mnist/'testing'/'0').ls()])\n",
        "valid_1_tensors = torch.stack([tensor(Image.open(o)) for o in (path_mnist/'testing'/'1').ls()])\n",
        "valid_2_tensors = torch.stack([tensor(Image.open(o)) for o in (path_mnist/'testing'/'2').ls()])\n",
        "valid_3_tensors = torch.stack([tensor(Image.open(o)) for o in (path_mnist/'testing'/'3').ls()])\n",
        "valid_4_tensors = torch.stack([tensor(Image.open(o)) for o in (path_mnist/'testing'/'4').ls()])\n",
        "valid_5_tensors = torch.stack([tensor(Image.open(o)) for o in (path_mnist/'testing'/'5').ls()])\n",
        "valid_6_tensors = torch.stack([tensor(Image.open(o)) for o in (path_mnist/'testing'/'6').ls()])\n",
        "valid_7_tensors = torch.stack([tensor(Image.open(o)) for o in (path_mnist/'testing'/'7').ls()])\n",
        "valid_8_tensors = torch.stack([tensor(Image.open(o)) for o in (path_mnist/'testing'/'8').ls()])\n",
        "valid_9_tensors = torch.stack([tensor(Image.open(o)) for o in (path_mnist/'testing'/'9').ls()])"
      ],
      "metadata": {
        "id": "vJTETpSrQPn-"
      },
      "execution_count": 25,
      "outputs": []
    },
    {
      "cell_type": "code",
      "source": [
        "valid_x = (torch.cat( [valid_0_tensors,\n",
        "                       valid_1_tensors,\n",
        "                       valid_2_tensors,\n",
        "                       valid_3_tensors,\n",
        "                       valid_4_tensors,\n",
        "                       valid_5_tensors,\n",
        "                       valid_6_tensors,\n",
        "                       valid_7_tensors,\n",
        "                       valid_8_tensors,\n",
        "                       valid_9_tensors]).float()/255).view(-1, 28*28)\n",
        "valid_x"
      ],
      "metadata": {
        "colab": {
          "base_uri": "https://localhost:8080/"
        },
        "id": "2Vrkv13eQ4T6",
        "outputId": "160630fd-fa45-4679-e6c1-2ec2b3e1b8f2"
      },
      "execution_count": 26,
      "outputs": [
        {
          "output_type": "execute_result",
          "data": {
            "text/plain": [
              "tensor([[0., 0., 0.,  ..., 0., 0., 0.],\n",
              "        [0., 0., 0.,  ..., 0., 0., 0.],\n",
              "        [0., 0., 0.,  ..., 0., 0., 0.],\n",
              "        ...,\n",
              "        [0., 0., 0.,  ..., 0., 0., 0.],\n",
              "        [0., 0., 0.,  ..., 0., 0., 0.],\n",
              "        [0., 0., 0.,  ..., 0., 0., 0.]])"
            ]
          },
          "metadata": {},
          "execution_count": 26
        }
      ]
    },
    {
      "cell_type": "code",
      "source": [
        "valid_y = torch.cat(  [torch.stack([tensor(1, 0, 0, 0, 0, 0, 0, 0, 0, 0)] * len(valid_0_tensors)),\n",
        "                       torch.stack([tensor(0, 1, 0, 0, 0, 0, 0, 0, 0, 0)] * len(valid_1_tensors)),\n",
        "                       torch.stack([tensor(0, 0, 1, 0, 0, 0, 0, 0, 0, 0)] * len(valid_2_tensors)),\n",
        "                       torch.stack([tensor(0, 0, 0, 1, 0, 0, 0, 0, 0, 0)] * len(valid_3_tensors)),\n",
        "                       torch.stack([tensor(0, 0, 0, 0, 1, 0, 0, 0, 0, 0)] * len(valid_4_tensors)),\n",
        "                       torch.stack([tensor(0, 0, 0, 0, 0, 1, 0, 0, 0, 0)] * len(valid_5_tensors)),\n",
        "                       torch.stack([tensor(0, 0, 0, 0, 0, 0, 1, 0, 0, 0)] * len(valid_6_tensors)),\n",
        "                       torch.stack([tensor(0, 0, 0, 0, 0, 0, 0, 1, 0, 0)] * len(valid_7_tensors)),\n",
        "                       torch.stack([tensor(0, 0, 0, 0, 0, 0, 0, 0, 1, 0)] * len(valid_8_tensors)),\n",
        "                       torch.stack([tensor(0, 0, 0, 0, 0, 0, 0, 0, 0, 1)] * len(valid_9_tensors))]).float()\n",
        "valid_y"
      ],
      "metadata": {
        "colab": {
          "base_uri": "https://localhost:8080/"
        },
        "id": "s0T4c5GGpCpo",
        "outputId": "85eaef33-9f20-43f1-fa39-efb17a06a5a2"
      },
      "execution_count": 27,
      "outputs": [
        {
          "output_type": "execute_result",
          "data": {
            "text/plain": [
              "tensor([[1., 0., 0.,  ..., 0., 0., 0.],\n",
              "        [1., 0., 0.,  ..., 0., 0., 0.],\n",
              "        [1., 0., 0.,  ..., 0., 0., 0.],\n",
              "        ...,\n",
              "        [0., 0., 0.,  ..., 0., 0., 1.],\n",
              "        [0., 0., 0.,  ..., 0., 0., 1.],\n",
              "        [0., 0., 0.,  ..., 0., 0., 1.]])"
            ]
          },
          "metadata": {},
          "execution_count": 27
        }
      ]
    },
    {
      "cell_type": "code",
      "source": [
        "valid_dset = list(zip(valid_x, valid_y))\n",
        "valid_dl = DataLoader(valid_dset, batch_size=256)"
      ],
      "metadata": {
        "id": "lpgpRXb8vX3v"
      },
      "execution_count": 28,
      "outputs": []
    },
    {
      "cell_type": "markdown",
      "source": [
        "Define DataLoaders from the DataLoader for training data and the DataLoader from the validation data"
      ],
      "metadata": {
        "id": "uM41_P9z2F6K"
      }
    },
    {
      "cell_type": "code",
      "source": [
        "digit_dls = DataLoaders(train_dl, valid_dl)"
      ],
      "metadata": {
        "id": "1-gvPE4I2Q8e"
      },
      "execution_count": 29,
      "outputs": []
    },
    {
      "cell_type": "markdown",
      "source": [
        "Define a loss function"
      ],
      "metadata": {
        "id": "uQFqO8K6why2"
      }
    },
    {
      "cell_type": "code",
      "source": [
        "def digit_recognition_rmse_loss(predictions, targets):\n",
        "    predictions = predictions.sigmoid()\n",
        "    return ((predictions-targets)**2).mean().sqrt()"
      ],
      "metadata": {
        "id": "e9M_azkswhdb"
      },
      "execution_count": 30,
      "outputs": []
    },
    {
      "cell_type": "markdown",
      "source": [
        "Define initialization of parameters with random values"
      ],
      "metadata": {
        "id": "0RWnGfS6ejZb"
      }
    },
    {
      "cell_type": "code",
      "source": [
        "def init_params(size, std=1.0): return (torch.randn(size)*std).requires_grad_()\n",
        "\n"
      ],
      "metadata": {
        "id": "l8PtAnN2eLz2"
      },
      "execution_count": 31,
      "outputs": []
    },
    {
      "cell_type": "markdown",
      "source": [
        "# Define a linear model"
      ],
      "metadata": {
        "id": "qRP-Ym8v0mxP"
      }
    },
    {
      "cell_type": "code",
      "source": [
        "weights = init_params((28*28,10))\n",
        "bias = init_params(10)"
      ],
      "metadata": {
        "id": "de7X4xvRehTt"
      },
      "execution_count": 32,
      "outputs": []
    },
    {
      "cell_type": "code",
      "source": [
        "def linear1(xb): return xb@weights + bias\n",
        "preds = linear1(train_x)\n",
        "preds"
      ],
      "metadata": {
        "colab": {
          "base_uri": "https://localhost:8080/"
        },
        "id": "pkAoNmCxb4x8",
        "outputId": "7042c21f-7ca3-4a3d-f0d9-1c1ec04505d8"
      },
      "execution_count": 33,
      "outputs": [
        {
          "output_type": "execute_result",
          "data": {
            "text/plain": [
              "tensor([[-25.4914,   2.0484,   1.5086,  ...,   3.7551,   4.0843, -20.9080],\n",
              "        [-25.8133,  -1.8046,  -2.7907,  ...,  -4.9699,   6.9387, -12.5759],\n",
              "        [-15.6790,   3.4444,  -1.0894,  ...,  -2.3538,   0.2719, -15.2585],\n",
              "        ...,\n",
              "        [ -7.9971, -11.8857,   4.4894,  ...,   0.5765,   4.5907, -17.0070],\n",
              "        [ -8.6032,  -6.0561,  10.7553,  ...,  -1.2791,  -1.7288,  -3.7423],\n",
              "        [-19.2718, -10.2326,  11.0443,  ...,  -4.7111,   3.4256,  -0.1536]],\n",
              "       grad_fn=<AddBackward0>)"
            ]
          },
          "metadata": {},
          "execution_count": 33
        }
      ]
    },
    {
      "cell_type": "code",
      "source": [
        "def calc_grad(xb, yb, model):\n",
        "    preds = model(xb)\n",
        "    loss = digit_recognition_rmse_loss(preds, yb)\n",
        "    loss.backward()"
      ],
      "metadata": {
        "id": "HwsGaRPmeusB"
      },
      "execution_count": 34,
      "outputs": []
    },
    {
      "cell_type": "code",
      "source": [
        "def train_epoch(model, lr, params, dl):\n",
        "    for xb,yb in dl:\n",
        "        calc_grad(xb, yb, model)\n",
        "        for p in params:\n",
        "            p.data -= p.grad*lr\n",
        "            p.grad.zero_()"
      ],
      "metadata": {
        "id": "mOeI0Us0e73O"
      },
      "execution_count": 35,
      "outputs": []
    },
    {
      "cell_type": "code",
      "source": [
        "def batch_accuracy(xb, yb):\n",
        "    preds = xb.sigmoid()\n",
        "    pred_labels = preds.argmax(dim=1)\n",
        "    true_labels = yb.argmax(dim=1)\n",
        "    return (pred_labels == true_labels).float().mean()"
      ],
      "metadata": {
        "id": "r8NFKsRxfNsP"
      },
      "execution_count": 36,
      "outputs": []
    },
    {
      "cell_type": "code",
      "source": [
        "def validate_epoch(model):\n",
        "    accs = [batch_accuracy(model(xb), yb) for xb,yb in valid_dl]\n",
        "    return round(torch.stack(accs).mean().item(), 4)"
      ],
      "metadata": {
        "id": "sBgl8tNrfB-o"
      },
      "execution_count": 37,
      "outputs": []
    },
    {
      "cell_type": "code",
      "source": [
        "lr = 1.\n",
        "params = weights,bias\n",
        "train_epoch(linear1, lr, params, train_dl)\n",
        "validate_epoch(linear1)"
      ],
      "metadata": {
        "colab": {
          "base_uri": "https://localhost:8080/"
        },
        "id": "iTMZdd2GfLGR",
        "outputId": "ff785d49-1034-42b8-abf0-b379d357e7d9"
      },
      "execution_count": 38,
      "outputs": [
        {
          "output_type": "execute_result",
          "data": {
            "text/plain": [
              "0.2119"
            ]
          },
          "metadata": {},
          "execution_count": 38
        }
      ]
    },
    {
      "cell_type": "code",
      "source": [
        "for i in range(150):\n",
        "    train_epoch(linear1, lr, params, train_dl)\n",
        "    print(f'Epoch {i} accuracy: {validate_epoch(linear1)}')"
      ],
      "metadata": {
        "colab": {
          "base_uri": "https://localhost:8080/"
        },
        "id": "cwHLG1K0jPJY",
        "outputId": "62b91a85-93a2-4b98-884d-393c151abe44"
      },
      "execution_count": 39,
      "outputs": [
        {
          "output_type": "stream",
          "name": "stdout",
          "text": [
            "Epoch 0 accuracy: 0.2715\n",
            "Epoch 1 accuracy: 0.3226\n",
            "Epoch 2 accuracy: 0.3651\n",
            "Epoch 3 accuracy: 0.3886\n",
            "Epoch 4 accuracy: 0.408\n",
            "Epoch 5 accuracy: 0.4203\n",
            "Epoch 6 accuracy: 0.4266\n",
            "Epoch 7 accuracy: 0.4311\n",
            "Epoch 8 accuracy: 0.4388\n",
            "Epoch 9 accuracy: 0.444\n",
            "Epoch 10 accuracy: 0.4476\n",
            "Epoch 11 accuracy: 0.45\n",
            "Epoch 12 accuracy: 0.4553\n",
            "Epoch 13 accuracy: 0.4563\n",
            "Epoch 14 accuracy: 0.4591\n",
            "Epoch 15 accuracy: 0.4604\n",
            "Epoch 16 accuracy: 0.4614\n",
            "Epoch 17 accuracy: 0.4633\n",
            "Epoch 18 accuracy: 0.4649\n",
            "Epoch 19 accuracy: 0.4662\n",
            "Epoch 20 accuracy: 0.4679\n",
            "Epoch 21 accuracy: 0.4694\n",
            "Epoch 22 accuracy: 0.4706\n",
            "Epoch 23 accuracy: 0.4721\n",
            "Epoch 24 accuracy: 0.4727\n",
            "Epoch 25 accuracy: 0.4738\n",
            "Epoch 26 accuracy: 0.4745\n",
            "Epoch 27 accuracy: 0.475\n",
            "Epoch 28 accuracy: 0.4755\n",
            "Epoch 29 accuracy: 0.476\n",
            "Epoch 30 accuracy: 0.477\n",
            "Epoch 31 accuracy: 0.4772\n",
            "Epoch 32 accuracy: 0.4777\n",
            "Epoch 33 accuracy: 0.4788\n",
            "Epoch 34 accuracy: 0.4793\n",
            "Epoch 35 accuracy: 0.4799\n",
            "Epoch 36 accuracy: 0.4805\n",
            "Epoch 37 accuracy: 0.4818\n",
            "Epoch 38 accuracy: 0.4831\n",
            "Epoch 39 accuracy: 0.4836\n",
            "Epoch 40 accuracy: 0.4851\n",
            "Epoch 41 accuracy: 0.4856\n",
            "Epoch 42 accuracy: 0.4866\n",
            "Epoch 43 accuracy: 0.4871\n",
            "Epoch 44 accuracy: 0.4875\n",
            "Epoch 45 accuracy: 0.4892\n",
            "Epoch 46 accuracy: 0.4907\n",
            "Epoch 47 accuracy: 0.4928\n",
            "Epoch 48 accuracy: 0.4949\n",
            "Epoch 49 accuracy: 0.4971\n",
            "Epoch 50 accuracy: 0.4988\n",
            "Epoch 51 accuracy: 0.5004\n",
            "Epoch 52 accuracy: 0.5021\n",
            "Epoch 53 accuracy: 0.5055\n",
            "Epoch 54 accuracy: 0.5081\n",
            "Epoch 55 accuracy: 0.5105\n",
            "Epoch 56 accuracy: 0.5138\n",
            "Epoch 57 accuracy: 0.5175\n",
            "Epoch 58 accuracy: 0.5212\n",
            "Epoch 59 accuracy: 0.5233\n",
            "Epoch 60 accuracy: 0.5265\n",
            "Epoch 61 accuracy: 0.5293\n",
            "Epoch 62 accuracy: 0.5321\n",
            "Epoch 63 accuracy: 0.5351\n",
            "Epoch 64 accuracy: 0.5371\n",
            "Epoch 65 accuracy: 0.5388\n",
            "Epoch 66 accuracy: 0.5412\n",
            "Epoch 67 accuracy: 0.5417\n",
            "Epoch 68 accuracy: 0.5428\n",
            "Epoch 69 accuracy: 0.5446\n",
            "Epoch 70 accuracy: 0.5452\n",
            "Epoch 71 accuracy: 0.5465\n",
            "Epoch 72 accuracy: 0.547\n",
            "Epoch 73 accuracy: 0.5477\n",
            "Epoch 74 accuracy: 0.5485\n",
            "Epoch 75 accuracy: 0.5489\n",
            "Epoch 76 accuracy: 0.5492\n",
            "Epoch 77 accuracy: 0.5497\n",
            "Epoch 78 accuracy: 0.55\n",
            "Epoch 79 accuracy: 0.5502\n",
            "Epoch 80 accuracy: 0.5501\n",
            "Epoch 81 accuracy: 0.5503\n",
            "Epoch 82 accuracy: 0.5506\n",
            "Epoch 83 accuracy: 0.5511\n",
            "Epoch 84 accuracy: 0.5512\n",
            "Epoch 85 accuracy: 0.5514\n",
            "Epoch 86 accuracy: 0.5517\n",
            "Epoch 87 accuracy: 0.5519\n",
            "Epoch 88 accuracy: 0.552\n",
            "Epoch 89 accuracy: 0.5522\n",
            "Epoch 90 accuracy: 0.5523\n",
            "Epoch 91 accuracy: 0.5523\n",
            "Epoch 92 accuracy: 0.5522\n",
            "Epoch 93 accuracy: 0.5525\n",
            "Epoch 94 accuracy: 0.5527\n",
            "Epoch 95 accuracy: 0.5532\n",
            "Epoch 96 accuracy: 0.5535\n",
            "Epoch 97 accuracy: 0.5539\n",
            "Epoch 98 accuracy: 0.5542\n",
            "Epoch 99 accuracy: 0.5543\n",
            "Epoch 100 accuracy: 0.5545\n",
            "Epoch 101 accuracy: 0.5548\n",
            "Epoch 102 accuracy: 0.5549\n",
            "Epoch 103 accuracy: 0.5551\n",
            "Epoch 104 accuracy: 0.5552\n",
            "Epoch 105 accuracy: 0.5552\n",
            "Epoch 106 accuracy: 0.5553\n",
            "Epoch 107 accuracy: 0.5552\n",
            "Epoch 108 accuracy: 0.5554\n",
            "Epoch 109 accuracy: 0.5554\n",
            "Epoch 110 accuracy: 0.5555\n",
            "Epoch 111 accuracy: 0.5557\n",
            "Epoch 112 accuracy: 0.5559\n",
            "Epoch 113 accuracy: 0.5561\n",
            "Epoch 114 accuracy: 0.5561\n",
            "Epoch 115 accuracy: 0.5561\n",
            "Epoch 116 accuracy: 0.5565\n",
            "Epoch 117 accuracy: 0.5567\n",
            "Epoch 118 accuracy: 0.5567\n",
            "Epoch 119 accuracy: 0.5568\n",
            "Epoch 120 accuracy: 0.5568\n",
            "Epoch 121 accuracy: 0.557\n",
            "Epoch 122 accuracy: 0.557\n",
            "Epoch 123 accuracy: 0.5571\n",
            "Epoch 124 accuracy: 0.5573\n",
            "Epoch 125 accuracy: 0.5574\n",
            "Epoch 126 accuracy: 0.5576\n",
            "Epoch 127 accuracy: 0.5577\n",
            "Epoch 128 accuracy: 0.5578\n",
            "Epoch 129 accuracy: 0.5579\n",
            "Epoch 130 accuracy: 0.5579\n",
            "Epoch 131 accuracy: 0.5579\n",
            "Epoch 132 accuracy: 0.558\n",
            "Epoch 133 accuracy: 0.5583\n",
            "Epoch 134 accuracy: 0.5584\n",
            "Epoch 135 accuracy: 0.5585\n",
            "Epoch 136 accuracy: 0.5584\n",
            "Epoch 137 accuracy: 0.5586\n",
            "Epoch 138 accuracy: 0.5589\n",
            "Epoch 139 accuracy: 0.559\n",
            "Epoch 140 accuracy: 0.559\n",
            "Epoch 141 accuracy: 0.5593\n",
            "Epoch 142 accuracy: 0.5593\n",
            "Epoch 143 accuracy: 0.5594\n",
            "Epoch 144 accuracy: 0.5595\n",
            "Epoch 145 accuracy: 0.5595\n",
            "Epoch 146 accuracy: 0.5597\n",
            "Epoch 147 accuracy: 0.5598\n",
            "Epoch 148 accuracy: 0.5597\n",
            "Epoch 149 accuracy: 0.5599\n"
          ]
        }
      ]
    }
  ],
  "metadata": {
    "jupytext": {
      "split_at_heading": true
    },
    "kernelspec": {
      "display_name": "Python 3 (ipykernel)",
      "language": "python",
      "name": "python3"
    },
    "colab": {
      "provenance": []
    }
  },
  "nbformat": 4,
  "nbformat_minor": 0
}