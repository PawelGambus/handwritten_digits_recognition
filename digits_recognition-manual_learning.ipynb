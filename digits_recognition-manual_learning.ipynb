{
  "cells": [
    {
      "cell_type": "code",
      "execution_count": 5,
      "metadata": {
        "id": "wv_B_OCuWUub"
      },
      "outputs": [],
      "source": [
        "from fastai.vision.all import *\n"
      ]
    },
    {
      "cell_type": "markdown",
      "source": [
        "# Get all data"
      ],
      "metadata": {
        "id": "Rl9fFjGm7e3L"
      }
    },
    {
      "cell_type": "code",
      "source": [
        "#print(dir(URLs))\n",
        "path_mnist = untar_data(URLs.MNIST)"
      ],
      "metadata": {
        "id": "fc3OYGcQ7erT"
      },
      "execution_count": 46,
      "outputs": []
    },
    {
      "cell_type": "markdown",
      "source": [
        "# Open all entries in the training set"
      ],
      "metadata": {
        "id": "H270h0Dhpl0f"
      }
    },
    {
      "cell_type": "code",
      "source": [
        "train_0_tensors = torch.stack([tensor(Image.open(o)) for o in (path_mnist/'training'/'0').ls()])\n",
        "train_1_tensors = torch.stack([tensor(Image.open(o)) for o in (path_mnist/'training'/'1').ls()])\n",
        "train_2_tensors = torch.stack([tensor(Image.open(o)) for o in (path_mnist/'training'/'2').ls()])\n",
        "train_3_tensors = torch.stack([tensor(Image.open(o)) for o in (path_mnist/'training'/'3').ls()])\n",
        "train_4_tensors = torch.stack([tensor(Image.open(o)) for o in (path_mnist/'training'/'4').ls()])\n",
        "train_5_tensors = torch.stack([tensor(Image.open(o)) for o in (path_mnist/'training'/'5').ls()])\n",
        "train_6_tensors = torch.stack([tensor(Image.open(o)) for o in (path_mnist/'training'/'6').ls()])\n",
        "train_7_tensors = torch.stack([tensor(Image.open(o)) for o in (path_mnist/'training'/'7').ls()])\n",
        "train_8_tensors = torch.stack([tensor(Image.open(o)) for o in (path_mnist/'training'/'8').ls()])\n",
        "train_9_tensors = torch.stack([tensor(Image.open(o)) for o in (path_mnist/'training'/'9').ls()])"
      ],
      "metadata": {
        "id": "fYfy7SKjSbnp"
      },
      "execution_count": 9,
      "outputs": []
    },
    {
      "cell_type": "code",
      "source": [
        "train_x = (torch.cat( [train_0_tensors,\n",
        "                       train_1_tensors,\n",
        "                       train_2_tensors,\n",
        "                       train_3_tensors,\n",
        "                       train_4_tensors,\n",
        "                       train_5_tensors,\n",
        "                       train_6_tensors,\n",
        "                       train_7_tensors,\n",
        "                       train_8_tensors,\n",
        "                       train_9_tensors]).float()/255).view(-1, 28*28)\n",
        "train_x"
      ],
      "metadata": {
        "colab": {
          "base_uri": "https://localhost:8080/"
        },
        "id": "6Ysct4NkUitk",
        "outputId": "23e779f8-b859-4f21-c044-d820ab97057a"
      },
      "execution_count": 10,
      "outputs": [
        {
          "output_type": "execute_result",
          "data": {
            "text/plain": [
              "tensor([[0., 0., 0.,  ..., 0., 0., 0.],\n",
              "        [0., 0., 0.,  ..., 0., 0., 0.],\n",
              "        [0., 0., 0.,  ..., 0., 0., 0.],\n",
              "        ...,\n",
              "        [0., 0., 0.,  ..., 0., 0., 0.],\n",
              "        [0., 0., 0.,  ..., 0., 0., 0.],\n",
              "        [0., 0., 0.,  ..., 0., 0., 0.]])"
            ]
          },
          "metadata": {},
          "execution_count": 10
        }
      ]
    },
    {
      "cell_type": "code",
      "source": [
        "train_y = torch.cat(  [torch.stack([tensor(1, 0, 0, 0, 0, 0, 0, 0, 0, 0)] * len(train_0_tensors)),\n",
        "                       torch.stack([tensor(0, 1, 0, 0, 0, 0, 0, 0, 0, 0)] * len(train_1_tensors)),\n",
        "                       torch.stack([tensor(0, 0, 1, 0, 0, 0, 0, 0, 0, 0)] * len(train_2_tensors)),\n",
        "                       torch.stack([tensor(0, 0, 0, 1, 0, 0, 0, 0, 0, 0)] * len(train_3_tensors)),\n",
        "                       torch.stack([tensor(0, 0, 0, 0, 1, 0, 0, 0, 0, 0)] * len(train_4_tensors)),\n",
        "                       torch.stack([tensor(0, 0, 0, 0, 0, 1, 0, 0, 0, 0)] * len(train_5_tensors)),\n",
        "                       torch.stack([tensor(0, 0, 0, 0, 0, 0, 1, 0, 0, 0)] * len(train_6_tensors)),\n",
        "                       torch.stack([tensor(0, 0, 0, 0, 0, 0, 0, 1, 0, 0)] * len(train_7_tensors)),\n",
        "                       torch.stack([tensor(0, 0, 0, 0, 0, 0, 0, 0, 1, 0)] * len(train_8_tensors)),\n",
        "                       torch.stack([tensor(0, 0, 0, 0, 0, 0, 0, 0, 0, 1)] * len(train_9_tensors))]).float()\n",
        "train_y"
      ],
      "metadata": {
        "colab": {
          "base_uri": "https://localhost:8080/"
        },
        "id": "B4Kr4uy3vTzF",
        "outputId": "79623f06-0650-4b1b-cd46-09de08cf77d7"
      },
      "execution_count": 11,
      "outputs": [
        {
          "output_type": "execute_result",
          "data": {
            "text/plain": [
              "tensor([[1., 0., 0.,  ..., 0., 0., 0.],\n",
              "        [1., 0., 0.,  ..., 0., 0., 0.],\n",
              "        [1., 0., 0.,  ..., 0., 0., 0.],\n",
              "        ...,\n",
              "        [0., 0., 0.,  ..., 0., 0., 1.],\n",
              "        [0., 0., 0.,  ..., 0., 0., 1.],\n",
              "        [0., 0., 0.,  ..., 0., 0., 1.]])"
            ]
          },
          "metadata": {},
          "execution_count": 11
        }
      ]
    },
    {
      "cell_type": "code",
      "source": [
        "train_dset = list(zip(train_x, train_y))\n",
        "train_dl = DataLoader(train_dset, batch_size=256)"
      ],
      "metadata": {
        "id": "7w1AhcHHWIHr"
      },
      "execution_count": 12,
      "outputs": []
    },
    {
      "cell_type": "markdown",
      "source": [
        "# Open all entries in the validation set"
      ],
      "metadata": {
        "id": "hY-gdg7KpcyX"
      }
    },
    {
      "cell_type": "code",
      "source": [
        "valid_0_tensors = torch.stack([tensor(Image.open(o)) for o in (path_mnist/'testing'/'0').ls()])\n",
        "valid_1_tensors = torch.stack([tensor(Image.open(o)) for o in (path_mnist/'testing'/'1').ls()])\n",
        "valid_2_tensors = torch.stack([tensor(Image.open(o)) for o in (path_mnist/'testing'/'2').ls()])\n",
        "valid_3_tensors = torch.stack([tensor(Image.open(o)) for o in (path_mnist/'testing'/'3').ls()])\n",
        "valid_4_tensors = torch.stack([tensor(Image.open(o)) for o in (path_mnist/'testing'/'4').ls()])\n",
        "valid_5_tensors = torch.stack([tensor(Image.open(o)) for o in (path_mnist/'testing'/'5').ls()])\n",
        "valid_6_tensors = torch.stack([tensor(Image.open(o)) for o in (path_mnist/'testing'/'6').ls()])\n",
        "valid_7_tensors = torch.stack([tensor(Image.open(o)) for o in (path_mnist/'testing'/'7').ls()])\n",
        "valid_8_tensors = torch.stack([tensor(Image.open(o)) for o in (path_mnist/'testing'/'8').ls()])\n",
        "valid_9_tensors = torch.stack([tensor(Image.open(o)) for o in (path_mnist/'testing'/'9').ls()])"
      ],
      "metadata": {
        "id": "vJTETpSrQPn-"
      },
      "execution_count": 13,
      "outputs": []
    },
    {
      "cell_type": "code",
      "source": [
        "valid_x = (torch.cat( [valid_0_tensors,\n",
        "                       valid_1_tensors,\n",
        "                       valid_2_tensors,\n",
        "                       valid_3_tensors,\n",
        "                       valid_4_tensors,\n",
        "                       valid_5_tensors,\n",
        "                       valid_6_tensors,\n",
        "                       valid_7_tensors,\n",
        "                       valid_8_tensors,\n",
        "                       valid_9_tensors]).float()/255).view(-1, 28*28)\n",
        "valid_x"
      ],
      "metadata": {
        "colab": {
          "base_uri": "https://localhost:8080/"
        },
        "id": "2Vrkv13eQ4T6",
        "outputId": "549038f3-3a8c-41b6-bf83-873cad3744c9"
      },
      "execution_count": 14,
      "outputs": [
        {
          "output_type": "execute_result",
          "data": {
            "text/plain": [
              "tensor([[0., 0., 0.,  ..., 0., 0., 0.],\n",
              "        [0., 0., 0.,  ..., 0., 0., 0.],\n",
              "        [0., 0., 0.,  ..., 0., 0., 0.],\n",
              "        ...,\n",
              "        [0., 0., 0.,  ..., 0., 0., 0.],\n",
              "        [0., 0., 0.,  ..., 0., 0., 0.],\n",
              "        [0., 0., 0.,  ..., 0., 0., 0.]])"
            ]
          },
          "metadata": {},
          "execution_count": 14
        }
      ]
    },
    {
      "cell_type": "code",
      "source": [
        "valid_y = torch.cat(  [torch.stack([tensor(1, 0, 0, 0, 0, 0, 0, 0, 0, 0)] * len(valid_0_tensors)),\n",
        "                       torch.stack([tensor(0, 1, 0, 0, 0, 0, 0, 0, 0, 0)] * len(valid_1_tensors)),\n",
        "                       torch.stack([tensor(0, 0, 1, 0, 0, 0, 0, 0, 0, 0)] * len(valid_2_tensors)),\n",
        "                       torch.stack([tensor(0, 0, 0, 1, 0, 0, 0, 0, 0, 0)] * len(valid_3_tensors)),\n",
        "                       torch.stack([tensor(0, 0, 0, 0, 1, 0, 0, 0, 0, 0)] * len(valid_4_tensors)),\n",
        "                       torch.stack([tensor(0, 0, 0, 0, 0, 1, 0, 0, 0, 0)] * len(valid_5_tensors)),\n",
        "                       torch.stack([tensor(0, 0, 0, 0, 0, 0, 1, 0, 0, 0)] * len(valid_6_tensors)),\n",
        "                       torch.stack([tensor(0, 0, 0, 0, 0, 0, 0, 1, 0, 0)] * len(valid_7_tensors)),\n",
        "                       torch.stack([tensor(0, 0, 0, 0, 0, 0, 0, 0, 1, 0)] * len(valid_8_tensors)),\n",
        "                       torch.stack([tensor(0, 0, 0, 0, 0, 0, 0, 0, 0, 1)] * len(valid_9_tensors))]).float()\n",
        "valid_y"
      ],
      "metadata": {
        "colab": {
          "base_uri": "https://localhost:8080/"
        },
        "id": "s0T4c5GGpCpo",
        "outputId": "02b955f6-1130-4364-a682-b278256f852a"
      },
      "execution_count": 15,
      "outputs": [
        {
          "output_type": "execute_result",
          "data": {
            "text/plain": [
              "tensor([[1., 0., 0.,  ..., 0., 0., 0.],\n",
              "        [1., 0., 0.,  ..., 0., 0., 0.],\n",
              "        [1., 0., 0.,  ..., 0., 0., 0.],\n",
              "        ...,\n",
              "        [0., 0., 0.,  ..., 0., 0., 1.],\n",
              "        [0., 0., 0.,  ..., 0., 0., 1.],\n",
              "        [0., 0., 0.,  ..., 0., 0., 1.]])"
            ]
          },
          "metadata": {},
          "execution_count": 15
        }
      ]
    },
    {
      "cell_type": "code",
      "source": [
        "valid_dset = list(zip(valid_x, valid_y))\n",
        "valid_dl = DataLoader(valid_dset, batch_size=256)"
      ],
      "metadata": {
        "id": "lpgpRXb8vX3v"
      },
      "execution_count": 16,
      "outputs": []
    },
    {
      "cell_type": "markdown",
      "source": [
        "Define DataLoaders from the DataLoader for training data and the DataLoader from the validation data"
      ],
      "metadata": {
        "id": "uM41_P9z2F6K"
      }
    },
    {
      "cell_type": "code",
      "source": [
        "digit_dls = DataLoaders(train_dl, valid_dl)"
      ],
      "metadata": {
        "id": "1-gvPE4I2Q8e"
      },
      "execution_count": null,
      "outputs": []
    },
    {
      "cell_type": "markdown",
      "source": [
        "Define a loss function"
      ],
      "metadata": {
        "id": "uQFqO8K6why2"
      }
    },
    {
      "cell_type": "code",
      "source": [
        "def digit_recognition_rmse_loss(predictions, targets):\n",
        "    predictions = predictions.sigmoid()\n",
        "    return ((predictions-targets)**2).mean().sqrt()"
      ],
      "metadata": {
        "id": "e9M_azkswhdb"
      },
      "execution_count": 23,
      "outputs": []
    },
    {
      "cell_type": "markdown",
      "source": [
        "Define initialization of parameters with random values"
      ],
      "metadata": {
        "id": "0RWnGfS6ejZb"
      }
    },
    {
      "cell_type": "code",
      "source": [
        "def init_params(size, std=1.0): return (torch.randn(size)*std).requires_grad_()\n",
        "\n"
      ],
      "metadata": {
        "id": "l8PtAnN2eLz2"
      },
      "execution_count": 19,
      "outputs": []
    },
    {
      "cell_type": "markdown",
      "source": [
        "# Define a linear model"
      ],
      "metadata": {
        "id": "qRP-Ym8v0mxP"
      }
    },
    {
      "cell_type": "code",
      "source": [
        "weights = init_params((28*28,10))\n",
        "bias = init_params(10)"
      ],
      "metadata": {
        "id": "de7X4xvRehTt"
      },
      "execution_count": 21,
      "outputs": []
    },
    {
      "cell_type": "code",
      "source": [
        "def linear1(xb): return xb@weights + bias\n",
        "preds = linear1(train_x)\n",
        "preds"
      ],
      "metadata": {
        "colab": {
          "base_uri": "https://localhost:8080/"
        },
        "id": "pkAoNmCxb4x8",
        "outputId": "607fe6f6-23d8-4a8d-807b-625377f914de"
      },
      "execution_count": 20,
      "outputs": [
        {
          "output_type": "execute_result",
          "data": {
            "text/plain": [
              "tensor([[ -5.4191, -18.7961,   4.2408,  ...,   1.0790,  -9.4976,  -9.8761],\n",
              "        [ -2.3162, -21.6028,   6.0779,  ...,  -0.5465, -14.8792,   1.9873],\n",
              "        [ -3.5054, -17.6888,  -0.1479,  ..., -13.1764,   1.3012,   4.2527],\n",
              "        ...,\n",
              "        [ -6.6577,   1.5923,   2.0058,  ...,  -2.7113,  -3.4279,   3.9862],\n",
              "        [  5.2012,   0.7095,   4.3216,  ...,  -3.5041,   4.8373,  -6.3017],\n",
              "        [ -3.4438,   2.4411, -10.2611,  ...,  -6.2664,   6.0397,  -7.7298]],\n",
              "       grad_fn=<AddBackward0>)"
            ]
          },
          "metadata": {},
          "execution_count": 20
        }
      ]
    },
    {
      "cell_type": "code",
      "source": [
        "def calc_grad(xb, yb, model):\n",
        "    preds = model(xb)\n",
        "    loss = digit_recognition_rmse_loss(preds, yb)\n",
        "    loss.backward()"
      ],
      "metadata": {
        "id": "HwsGaRPmeusB"
      },
      "execution_count": 24,
      "outputs": []
    },
    {
      "cell_type": "code",
      "source": [
        "def train_epoch(model, lr, params, dl):\n",
        "    for xb,yb in dl:\n",
        "        calc_grad(xb, yb, model)\n",
        "        for p in params:\n",
        "            p.data -= p.grad*lr\n",
        "            p.grad.zero_()"
      ],
      "metadata": {
        "id": "mOeI0Us0e73O"
      },
      "execution_count": 30,
      "outputs": []
    },
    {
      "cell_type": "code",
      "source": [
        "def batch_accuracy(xb, yb):\n",
        "    preds = xb.sigmoid()\n",
        "    pred_labels = preds.argmax(dim=1)\n",
        "    true_labels = yb.argmax(dim=1)\n",
        "    return (pred_labels == true_labels).float().mean()"
      ],
      "metadata": {
        "id": "r8NFKsRxfNsP"
      },
      "execution_count": 26,
      "outputs": []
    },
    {
      "cell_type": "code",
      "source": [
        "def validate_epoch(model):\n",
        "    accs = [batch_accuracy(model(xb), yb) for xb,yb in valid_dl]\n",
        "    return round(torch.stack(accs).mean().item(), 4)"
      ],
      "metadata": {
        "id": "sBgl8tNrfB-o"
      },
      "execution_count": 27,
      "outputs": []
    },
    {
      "cell_type": "code",
      "source": [
        "lr = 1.\n",
        "params = weights,bias\n",
        "train_epoch(linear1, lr, params, train_dl)\n",
        "validate_epoch(linear1)"
      ],
      "metadata": {
        "colab": {
          "base_uri": "https://localhost:8080/"
        },
        "id": "iTMZdd2GfLGR",
        "outputId": "d5553276-4a55-4228-e847-5f499ff72b80"
      },
      "execution_count": 39,
      "outputs": [
        {
          "output_type": "execute_result",
          "data": {
            "text/plain": [
              "0.5466"
            ]
          },
          "metadata": {},
          "execution_count": 39
        }
      ]
    },
    {
      "cell_type": "code",
      "source": [
        "for i in range(150):\n",
        "    train_epoch(linear1, lr, params, train_dl)\n",
        "    print(f'Epoch {i} accuracy: {validate_epoch(linear1)}')"
      ],
      "metadata": {
        "colab": {
          "base_uri": "https://localhost:8080/"
        },
        "id": "cwHLG1K0jPJY",
        "outputId": "1a58141f-9f0d-4c8c-c29c-ca6c7b2414cd"
      },
      "execution_count": 45,
      "outputs": [
        {
          "output_type": "stream",
          "name": "stdout",
          "text": [
            "Epoch 0 accuracy: 0.6273\n",
            "Epoch 1 accuracy: 0.628\n",
            "Epoch 2 accuracy: 0.6286\n",
            "Epoch 3 accuracy: 0.6292\n",
            "Epoch 4 accuracy: 0.6298\n",
            "Epoch 5 accuracy: 0.6301\n",
            "Epoch 6 accuracy: 0.6301\n",
            "Epoch 7 accuracy: 0.6309\n",
            "Epoch 8 accuracy: 0.6314\n",
            "Epoch 9 accuracy: 0.6319\n",
            "Epoch 10 accuracy: 0.6323\n",
            "Epoch 11 accuracy: 0.6324\n",
            "Epoch 12 accuracy: 0.6327\n",
            "Epoch 13 accuracy: 0.6329\n",
            "Epoch 14 accuracy: 0.6334\n",
            "Epoch 15 accuracy: 0.6339\n",
            "Epoch 16 accuracy: 0.6342\n",
            "Epoch 17 accuracy: 0.6347\n",
            "Epoch 18 accuracy: 0.6348\n",
            "Epoch 19 accuracy: 0.6351\n",
            "Epoch 20 accuracy: 0.6354\n",
            "Epoch 21 accuracy: 0.6359\n",
            "Epoch 22 accuracy: 0.6362\n",
            "Epoch 23 accuracy: 0.6367\n",
            "Epoch 24 accuracy: 0.6368\n",
            "Epoch 25 accuracy: 0.637\n",
            "Epoch 26 accuracy: 0.6373\n",
            "Epoch 27 accuracy: 0.6375\n",
            "Epoch 28 accuracy: 0.6379\n",
            "Epoch 29 accuracy: 0.6381\n"
          ]
        }
      ]
    }
  ],
  "metadata": {
    "jupytext": {
      "split_at_heading": true
    },
    "kernelspec": {
      "display_name": "Python 3 (ipykernel)",
      "language": "python",
      "name": "python3"
    },
    "colab": {
      "provenance": []
    }
  },
  "nbformat": 4,
  "nbformat_minor": 0
}